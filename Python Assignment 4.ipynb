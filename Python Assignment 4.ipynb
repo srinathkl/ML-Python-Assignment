{
 "cells": [
  {
   "cell_type": "markdown",
   "metadata": {},
   "source": [
    "1.1 Write a Python Program(with class concepts) to find the area of the triangle using the below  formula. \n",
    "area = (s*(s-a)*(s-b)*(s-c)) ** 0.5 \n",
    "Function to take the length of the sides of triangle from user should be defined in the parent  class and function to calculate the area should be defined in subclass. \n"
   ]
  },
  {
   "cell_type": "code",
   "execution_count": 39,
   "metadata": {},
   "outputs": [],
   "source": [
    "class area:\n",
    "    \n",
    "    def __init__(self,sidea,sideb,sidec):\n",
    "        self.sidea=sidea\n",
    "        self.sideb=sideb\n",
    "        self.sidec=sidec\n",
    "        #print(\"Inside Parent class\")"
   ]
  },
  {
   "cell_type": "code",
   "execution_count": 42,
   "metadata": {},
   "outputs": [],
   "source": [
    "class triangle(area):\n",
    "    \n",
    "    def __init__(self,*args):\n",
    "        print(\"Inside Subclass\")\n",
    "        \n",
    "        \n",
    "    def areaoftriangle(self,*args):\n",
    "        area.__init__(self,*args)\n",
    "        s=(self.sidea+self.sideb+self.sidec)/2\n",
    "        result=(s*(s-self.sidea)*(s-self.sideb)*(s-self.sidec))**0.5\n",
    "        print(\"Area of triangle is :{0:.2f}\".format(result))"
   ]
  },
  {
   "cell_type": "code",
   "execution_count": 43,
   "metadata": {},
   "outputs": [
    {
     "name": "stdout",
     "output_type": "stream",
     "text": [
      "Inside Subclass\n",
      "10\n",
      "12\n",
      "9\n",
      "Area of triangle is :44.04\n"
     ]
    }
   ],
   "source": [
    "test=triangle()\n",
    "test.areaoftriangle(int(input()),int(input()),int(input()))"
   ]
  },
  {
   "cell_type": "markdown",
   "metadata": {},
   "source": [
    "1.2 Write a function filter_long_words() that takes a list of words and an integer n and returns  the list of words that are longer than n. \n"
   ]
  },
  {
   "cell_type": "code",
   "execution_count": 1,
   "metadata": {},
   "outputs": [],
   "source": [
    "def filter_long_words(words,n):\n",
    "    longerwords=[]\n",
    "    for i in words:\n",
    "        if(len(i)>n):\n",
    "            longerwords.append(i)\n",
    "    \n",
    "    return longerwords"
   ]
  },
  {
   "cell_type": "code",
   "execution_count": 2,
   "metadata": {},
   "outputs": [
    {
     "name": "stdout",
     "output_type": "stream",
     "text": [
      "Enter the integer value3\n",
      "['hello', 'python', 'course', 'laptop']\n"
     ]
    }
   ],
   "source": [
    "words=[\"Hi\",\"hello\",\"how\",\"are\",\"you\",\"python\",\"course\",\"laptop\"]\n",
    "n=int(input(\"Enter the integer value\"))\n",
    "print(filter_long_words(words,n))"
   ]
  },
  {
   "cell_type": "markdown",
   "metadata": {},
   "source": [
    "2.1 Write a Python program using function concept that maps list of words into a list of integers  representing the lengths of the corresponding words. \n",
    "Hint: If a list [ ab,cde,erty] is passed on to the python function output should come as [2,3,4] Here 2,3 and 4 are the lengths of the words in the list."
   ]
  },
  {
   "cell_type": "code",
   "execution_count": 3,
   "metadata": {},
   "outputs": [],
   "source": [
    "def mapwords(words):\n",
    "    result=[]\n",
    "    for i in words:\n",
    "        result.append(len(i))\n",
    "    return result\n"
   ]
  },
  {
   "cell_type": "code",
   "execution_count": 7,
   "metadata": {},
   "outputs": [
    {
     "name": "stdout",
     "output_type": "stream",
     "text": [
      "[2, 3, 4, 7]\n"
     ]
    }
   ],
   "source": [
    "wordslen=[\"ab\",\"cde\",\"erty\",\"vasanth\"]\n",
    "print(mapwords(wordslen))"
   ]
  },
  {
   "cell_type": "markdown",
   "metadata": {},
   "source": [
    "2.2 Write a Python function which takes a character (i.e. a string of length 1) and returns True if  it is a vowel, False otherwise. \n"
   ]
  },
  {
   "cell_type": "code",
   "execution_count": 9,
   "metadata": {},
   "outputs": [],
   "source": [
    "def isvowels(char):\n",
    "    a=set(\"aieou\")\n",
    "    #print(a)\n",
    "    if(char in a):\n",
    "        return True\n",
    "    else:\n",
    "        return False"
   ]
  },
  {
   "cell_type": "code",
   "execution_count": 14,
   "metadata": {},
   "outputs": [
    {
     "name": "stdout",
     "output_type": "stream",
     "text": [
      "Enter the character to check whether it is vowel:a\n",
      "True\n",
      "To check character is not vowel:s\n",
      "False\n"
     ]
    }
   ],
   "source": [
    "s=input(\"Enter the character to check whether it is vowel:\")\n",
    "print(isvowels(s))\n",
    "print(isvowels(input(\"To check character is not vowel:\")))"
   ]
  }
 ],
 "metadata": {
  "kernelspec": {
   "display_name": "Python 3",
   "language": "python",
   "name": "python3"
  },
  "language_info": {
   "codemirror_mode": {
    "name": "ipython",
    "version": 3
   },
   "file_extension": ".py",
   "mimetype": "text/x-python",
   "name": "python",
   "nbconvert_exporter": "python",
   "pygments_lexer": "ipython3",
   "version": "3.7.4"
  }
 },
 "nbformat": 4,
 "nbformat_minor": 2
}
